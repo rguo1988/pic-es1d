{
 "cells": [
  {
   "cell_type": "markdown",
   "metadata": {},
   "source": [
    "# 双流不稳定性"
   ]
  },
  {
   "cell_type": "code",
   "execution_count": 1,
   "metadata": {},
   "outputs": [],
   "source": [
    "import numpy as np\n",
    "import matplotlib.pyplot as plt\n",
    "import os\n",
    "from matplotlib.animation import FuncAnimation\n",
    "from matplotlib.animation import FFMpegFileWriter\n",
    "from IPython.display import HTML\n",
    "%config InlineBackend.figure_format = 'svg'\n",
    "#%matplotlib notebook"
   ]
  },
  {
   "cell_type": "markdown",
   "metadata": {},
   "source": [
    "## 参数设置 函数定义"
   ]
  },
  {
   "cell_type": "code",
   "execution_count": 14,
   "metadata": {},
   "outputs": [],
   "source": [
    "a = 10  # 半宽度\n",
    "k = 1\n",
    "num = 1000  # 粒子数\n",
    "m=1\n",
    "tem = 0.1 # 温度\n",
    "vmax = 10\n",
    "max_steps = 1000  # 最大时间步数\n",
    "\n",
    "path = './data/'"
   ]
  },
  {
   "cell_type": "code",
   "execution_count": 16,
   "metadata": {
    "code_folding": [
     6
    ]
   },
   "outputs": [],
   "source": [
    "def fm1(v, t):\n",
    "    r = np.sqrt(m/(2.*np.pi*t))*np.exp(-m*(v-3)**2/(2*t))\n",
    "    return r\n",
    "def fm2(v, t):\n",
    "    r = np.sqrt(m/(2.*np.pi*t))*np.exp(-m*(v+3)**2/(2*t))\n",
    "    return r\n",
    "def pdf(data, dmin, dmax):##统计分布函数\n",
    "    bins_optional = np.histogram_bin_edges(\n",
    "        data, bins='auto', range=(dmin, dmax))\n",
    "    pdf_v = np.histogram(data, bins=bins_optional, density=True)[0]\n",
    "    pdfr = (bins_optional[0:len(bins_optional)-1]+bins_optional[1:len(bins_optional)])/2\n",
    "    pdfr_w = bins_optional[1:len(bins_optional)]-bins_optional[0:len(bins_optional)-1]\n",
    "    return pdf_v, pdfr, pdfr_w"
   ]
  },
  {
   "cell_type": "markdown",
   "metadata": {},
   "source": [
    "## 能量-时间曲线"
   ]
  },
  {
   "cell_type": "code",
   "execution_count": null,
   "metadata": {},
   "outputs": [],
   "source": [
    "dataet = np.loadtxt(os.path.join(path,\"tot_energy\"))#(\"./data/totEnergy\")\n",
    "dataep = np.loadtxt(os.path.join(path,\"pot_energy\"))#(\"./data/potEnergy\")\n",
    "dataek = np.loadtxt(os.path.join(path,\"kin_energy\"))#(\"./data/kinEnergy\")\n",
    "\n",
    "t = np.linspace(0, max_steps, max_steps)\n",
    "fig = plt.figure(figsize=(12, 3))\n",
    "\n",
    "ax1 = plt.subplot2grid((3, 2), (0, 0))\n",
    "ax1.plot(t, dataek, color='orange')\n",
    "ax1.set_ylabel(r'$E_k$')\n",
    "ax1.yaxis.set_label_position(\"right\")\n",
    "\n",
    "ax2 = plt.subplot2grid((3, 2), (1, 0))\n",
    "ax2.plot(t, dataep, color='r')\n",
    "ax2.set_ylabel(r'$E_p$')\n",
    "ax2.yaxis.set_label_position(\"right\")\n",
    "\n",
    "ax3 = plt.subplot2grid((3, 2), (2, 0))\n",
    "ax3.plot(t, dataet, color='black')\n",
    "ax3.set_ylabel(r'$E_{tot}$')\n",
    "ax3.yaxis.set_label_position(\"right\")\n",
    "\n",
    "axl2 = plt.subplot2grid((3, 2), (0, 1), rowspan=3)\n",
    "axl2.plot(t, dataep, color='r')\n",
    "axl2.set_ylabel(r'$\\ln E_p$')\n",
    "axl2.set_yscale('log')\n",
    "axl2.yaxis.set_label_position(\"right\")\n",
    "axl2.grid()\n",
    "\n",
    "fig.subplots_adjust(bottom=0.1, top=0.9, hspace=.5, wspace=.2)\n",
    "plt.xlabel(r'$t$')\n",
    "plt.show()"
   ]
  },
  {
   "cell_type": "markdown",
   "metadata": {},
   "source": [
    "## 速度-密度分布曲线"
   ]
  },
  {
   "cell_type": "code",
   "execution_count": null,
   "metadata": {
    "code_folding": []
   },
   "outputs": [],
   "source": [
    "progesses = np.arange(0,max_steps,1)\n",
    "\n",
    "e1xdata = []\n",
    "e1vdata = []\n",
    "e2xdata = []\n",
    "e2vdata = []\n",
    "\n",
    "for progess in progesses:\n",
    "    e1xdata_temp = np.loadtxt(os.path.join(path,\"e1x_data\"+str(progess)))\n",
    "    e1vdata_temp = np.loadtxt(os.path.join(path,\"e1v_data\"+str(progess)))\n",
    "    e2xdata_temp = np.loadtxt(os.path.join(path,\"e2x_data\"+str(progess)))\n",
    "    e2vdata_temp = np.loadtxt(os.path.join(path,\"e2v_data\"+str(progess)))\n",
    "    e1xdata.append(e1xdata_temp)\n",
    "    e1vdata.append(e1vdata_temp)\n",
    "    e2xdata.append(e2xdata_temp)\n",
    "    e2vdata.append(e2vdata_temp)"
   ]
  },
  {
   "cell_type": "code",
   "execution_count": null,
   "metadata": {},
   "outputs": [],
   "source": [
    "e1vpdf0,e1v,e1v_w = pdf(e1vdata[0],-vmax,vmax)\n",
    "e2vpdf0,e2v,e2v_w = pdf(e2vdata[0],-vmax,vmax)"
   ]
  },
  {
   "cell_type": "code",
   "execution_count": null,
   "metadata": {},
   "outputs": [],
   "source": [
    "fig = plt.figure(figsize=(6,5))\n",
    "plt.plot(e1v,e1vpdf0,'.')\n",
    "plt.plot(e1v,fm1(e1v,0.1))\n",
    "plt.plot(e2v,e2vpdf0,'.')\n",
    "plt.plot(e2v,fm2(e2v,0.1))\n",
    "plt.show()"
   ]
  },
  {
   "cell_type": "markdown",
   "metadata": {},
   "source": [
    "### 动画显示"
   ]
  },
  {
   "cell_type": "code",
   "execution_count": null,
   "metadata": {},
   "outputs": [],
   "source": [
    "fig = plt.figure(figsize=(6,6))\n",
    "ax = plt.subplot()\n",
    "x1_ani,v1_ani=[],[]\n",
    "x2_ani,v2_ani=[],[]\n",
    "xv1,=ax.plot(x1_ani,v1_ani,'.')\n",
    "xv2,=ax.plot(x2_ani,v2_ani,'.')\n",
    "ax.set_xlim(-a,a)\n",
    "ax.set_ylim(-vmax,vmax)\n",
    "def update(frame):\n",
    "    x1_ani = e1xdata[frame]\n",
    "    v1_ani = e1vdata[frame]\n",
    "    x2_ani = e2xdata[frame]\n",
    "    v2_ani = e2vdata[frame]\n",
    "    xv1.set_data(x1_ani,v1_ani)\n",
    "    xv2.set_data(x2_ani,v2_ani)\n",
    "    return xv1,xv2\n",
    "ani = FuncAnimation(fig,update,frames=np.arange(0,max_steps), interval = 50, repeat=False, blit = False)"
   ]
  },
  {
   "cell_type": "code",
   "execution_count": null,
   "metadata": {},
   "outputs": [],
   "source": [
    "ani.save('./two-stream-instability.mp4', dpi=120, fps=24, writer='imagemagick')"
   ]
  },
  {
   "cell_type": "code",
   "execution_count": null,
   "metadata": {},
   "outputs": [],
   "source": [
    "HTML(ani.to_html5_video())"
   ]
  },
  {
   "cell_type": "code",
   "execution_count": null,
   "metadata": {},
   "outputs": [],
   "source": []
  }
 ],
 "metadata": {
  "kernelspec": {
   "display_name": "Python 3",
   "language": "python",
   "name": "python3"
  },
  "language_info": {
   "codemirror_mode": {
    "name": "ipython",
    "version": 3
   },
   "file_extension": ".py",
   "mimetype": "text/x-python",
   "name": "python",
   "nbconvert_exporter": "python",
   "pygments_lexer": "ipython3",
   "version": "3.7.4"
  },
  "toc": {
   "base_numbering": 1,
   "nav_menu": {},
   "number_sections": false,
   "sideBar": true,
   "skip_h1_title": false,
   "title_cell": "Table of Contents",
   "title_sidebar": "Contents",
   "toc_cell": false,
   "toc_position": {},
   "toc_section_display": true,
   "toc_window_display": true
  },
  "varInspector": {
   "cols": {
    "lenName": 16,
    "lenType": 16,
    "lenVar": 40
   },
   "kernels_config": {
    "python": {
     "delete_cmd_postfix": "",
     "delete_cmd_prefix": "del ",
     "library": "var_list.py",
     "varRefreshCmd": "print(var_dic_list())"
    },
    "r": {
     "delete_cmd_postfix": ") ",
     "delete_cmd_prefix": "rm(",
     "library": "var_list.r",
     "varRefreshCmd": "cat(var_dic_list()) "
    }
   },
   "types_to_exclude": [
    "module",
    "function",
    "builtin_function_or_method",
    "instance",
    "_Feature"
   ],
   "window_display": false
  }
 },
 "nbformat": 4,
 "nbformat_minor": 2
}
